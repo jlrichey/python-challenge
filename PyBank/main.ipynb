{
 "cells": [
  {
   "cell_type": "code",
   "execution_count": 29,
   "id": "54b11abb-b65e-4c81-b6ea-88f8bd042d13",
   "metadata": {
    "tags": []
   },
   "outputs": [],
   "source": [
    "# Import os and csv libraries\n",
    "\n",
    "import os\n",
    "import csv\n"
   ]
  },
  {
   "cell_type": "code",
   "execution_count": 30,
   "id": "036498fd-d85c-4f1e-8411-cf5e2f3f450c",
   "metadata": {
    "tags": []
   },
   "outputs": [],
   "source": [
    "# Set the path to the csv data file\n",
    "\n",
    "csvpath = os.path.join(\"Resources\", \"budget_data.csv\")\n"
   ]
  },
  {
   "cell_type": "code",
   "execution_count": 31,
   "id": "ab57a05e-f264-4e22-95f4-4098f2a30824",
   "metadata": {
    "tags": []
   },
   "outputs": [],
   "source": [
    "# Initializing variables for analysis output\n",
    "\n",
    "greatest_increase = 0\n",
    "greatest_decrease = 0\n",
    "greatest_increase_date = 0\n",
    "greatest_decrease_date = 0\n"
   ]
  },
  {
   "cell_type": "code",
   "execution_count": 32,
   "id": "b1d80746-a9e6-40ad-aa56-0a79b79f4870",
   "metadata": {
    "tags": []
   },
   "outputs": [],
   "source": [
    "# Open the csv as `csvfile` and read the contents into 'csvreader'\n",
    "\n",
    "with open(csvpath, newline=\"\") as csvfile:\n",
    "    csvreader = csv.reader(csvfile, delimiter=\",\")\n",
    "    next(csvreader) # Function to advance the iterator to remove table header from loops\n",
    "    rowcount = 0 # Variable to determine total number of rows/months in the dataset\n",
    "    net_PL = 0 # Variable to store the total of P/L\n",
    "    change_m2m = [] # List to capture month to month change for average change calculation\n",
    "    data = list(csvreader) # Creating list 'data' from 'csvreader'\n",
    "    last_row = int(data[0][1]) # Assign first row P/L amount to 'last_row' for first change calculation\n",
    "    "
   ]
  },
  {
   "cell_type": "code",
   "execution_count": 34,
   "id": "90408cbe-c78a-4c00-b677-ea8f40e8b7c8",
   "metadata": {
    "tags": []
   },
   "outputs": [],
   "source": [
    "# For loop to iterate through 'data', calculate net P/L, and count rows(months) \n",
    "\n",
    "for row in data:\n",
    "    net_PL += int(row[1])    \n",
    "    rowcount += 1"
   ]
  },
  {
   "cell_type": "code",
   "execution_count": 35,
   "id": "dd5ef84a-31f2-473a-9d4c-6234f3f3f979",
   "metadata": {
    "tags": []
   },
   "outputs": [],
   "source": [
    "# For loop to calculate month to month P/L changes and append to 'change_m2m' list for average P&L calculation      \n",
    "\n",
    "for row in data[1:]:\n",
    "    change = int(row[1]) - last_row\n",
    "    change_m2m.append(change)\n",
    "    last_row = int(row[1])"
   ]
  },
  {
   "cell_type": "code",
   "execution_count": null,
   "id": "51da3660-afe3-4e47-a8f6-d0b28db1650d",
   "metadata": {},
   "outputs": [],
   "source": [
    "# Calculate average change in P/L from month to month\n",
    "\n",
    "avg_change = sum(change_m2m) / len(change_m2m)"
   ]
  }
 ],
 "metadata": {
  "kernelspec": {
   "display_name": "Python 3 (ipykernel)",
   "language": "python",
   "name": "python3"
  },
  "language_info": {
   "codemirror_mode": {
    "name": "ipython",
    "version": 3
   },
   "file_extension": ".py",
   "mimetype": "text/x-python",
   "name": "python",
   "nbconvert_exporter": "python",
   "pygments_lexer": "ipython3",
   "version": "3.10.13"
  }
 },
 "nbformat": 4,
 "nbformat_minor": 5
}

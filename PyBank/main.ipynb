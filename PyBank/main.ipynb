{
 "cells": [
  {
   "cell_type": "code",
   "execution_count": 76,
   "id": "54b11abb-b65e-4c81-b6ea-88f8bd042d13",
   "metadata": {
    "tags": []
   },
   "outputs": [],
   "source": [
    "# Import os and csv libraries\n",
    "\n",
    "import os\n",
    "import csv"
   ]
  },
  {
   "cell_type": "code",
   "execution_count": 77,
   "id": "036498fd-d85c-4f1e-8411-cf5e2f3f450c",
   "metadata": {
    "tags": []
   },
   "outputs": [],
   "source": [
    "# Set the path to the csv data file\n",
    "\n",
    "csvpath = os.path.join(\"Resources\", \"budget_data.csv\")"
   ]
  },
  {
   "cell_type": "code",
   "execution_count": 78,
   "id": "ab57a05e-f264-4e22-95f4-4098f2a30824",
   "metadata": {
    "tags": []
   },
   "outputs": [],
   "source": [
    "# Initializing variables for analysis output\n",
    "\n",
    "greatest_increase = 0\n",
    "greatest_decrease = 0\n",
    "greatest_increase_date = 0\n",
    "greatest_decrease_date = 0\n",
    "rowcount = 0 # Variable to determine total number of rows/months in the dataset\n",
    "net_PL = 0 # Variable to store the total of P/L\n",
    "change_m2m = [] # List to capture month to month change for average change calculation"
   ]
  },
  {
   "cell_type": "code",
   "execution_count": 79,
   "id": "b1d80746-a9e6-40ad-aa56-0a79b79f4870",
   "metadata": {
    "tags": []
   },
   "outputs": [],
   "source": [
    "# Open the csv as `csvfile` and read the contents into 'csvreader'\n",
    "\n",
    "with open(csvpath, newline=\"\") as csvfile:\n",
    "    csvreader = csv.reader(csvfile, delimiter=\",\")\n",
    "    next(csvreader) # Function to advance the iterator to remove table header from loops\n",
    "    data = list(csvreader) # Creating list 'data' from 'csvreader'\n",
    "    last_row = int(data[0][1]) # Assign first row P/L amount to 'last_row' for first change calculation"
   ]
  },
  {
   "cell_type": "code",
   "execution_count": 80,
   "id": "90408cbe-c78a-4c00-b677-ea8f40e8b7c8",
   "metadata": {
    "tags": []
   },
   "outputs": [],
   "source": [
    "# For loop to iterate through 'data', calculate net P/L, and count rows(months) \n",
    "\n",
    "for row in data:\n",
    "    net_PL += int(row[1])    \n",
    "    rowcount += 1"
   ]
  },
  {
   "cell_type": "code",
   "execution_count": 81,
   "id": "dd5ef84a-31f2-473a-9d4c-6234f3f3f979",
   "metadata": {
    "tags": []
   },
   "outputs": [],
   "source": [
    "# For loop to calculate month to month P/L changes and append to 'change_m2m' list for average P&L calculation      \n",
    "\n",
    "for row in data[1:]:\n",
    "    change = int(row[1]) - last_row\n",
    "    change_m2m.append(change)\n",
    "    last_row = int(row[1])"
   ]
  },
  {
   "cell_type": "code",
   "execution_count": 82,
   "id": "51da3660-afe3-4e47-a8f6-d0b28db1650d",
   "metadata": {
    "tags": []
   },
   "outputs": [],
   "source": [
    "# Calculate average change in P/L from month to month\n",
    "\n",
    "avg_change = sum(change_m2m) / len(change_m2m)"
   ]
  },
  {
   "cell_type": "code",
   "execution_count": 83,
   "id": "dfdcd9c7-0bd9-45c0-877e-fb32e6ce018e",
   "metadata": {
    "tags": []
   },
   "outputs": [],
   "source": [
    "# Locate greatest P/L increase and decrease in 'change_m2m' list and assign to analysis variables\n",
    "\n",
    "greatest_increase = max(change_m2m)\n",
    "greatest_decrease = min(change_m2m)"
   ]
  },
  {
   "cell_type": "code",
   "execution_count": 84,
   "id": "5553c9f4-63a0-44b8-91d7-318598469b32",
   "metadata": {
    "tags": []
   },
   "outputs": [],
   "source": [
    "# Gather index from 'change_m2m' list for greatest increase and decrease dates\n",
    "\n",
    "max_index = change_m2m.index(greatest_increase)\n",
    "min_index = change_m2m.index(greatest_decrease)"
   ]
  },
  {
   "cell_type": "code",
   "execution_count": 85,
   "id": "1af832cb-0878-4274-baa3-9ef103af8928",
   "metadata": {
    "tags": []
   },
   "outputs": [],
   "source": [
    "# Offset row index by \"+1\" to correct for greatest increase and decrease dates\n",
    "\n",
    "greatest_increase_date = data[max_index + 1][0]\n",
    "greatest_decrease_date = data[min_index + 1][0]"
   ]
  },
  {
   "cell_type": "code",
   "execution_count": 86,
   "id": "98d07a2b-a715-48be-9a1a-3d2a75f67959",
   "metadata": {
    "tags": []
   },
   "outputs": [
    {
     "name": "stdout",
     "output_type": "stream",
     "text": [
      "Financial Analysis\n",
      "----------------------------\n",
      "Total Months: 86\n",
      "Total: $38382578\n",
      "Average Change: $-2315.12\n",
      "Greatest Increase in Profits: Feb-2012 ($1926159)\n",
      "Greatest Decrease in Profits: Sep-2013 ($-2196167)\n",
      "\n"
     ]
    }
   ],
   "source": [
    "# Print analysis to terminal\n",
    "\n",
    "print(\"Financial Analysis\")\n",
    "print(\"----------------------------\")\n",
    "print(f\"Total Months: {rowcount}\")\n",
    "print(f\"Total: ${net_PL}\")\n",
    "print(f\"Average Change: ${round(avg_change, 2)}\")\n",
    "print(f\"Greatest Increase in Profits: {greatest_increase_date} (${greatest_increase})\")\n",
    "print(f\"Greatest Decrease in Profits: {greatest_decrease_date} (${greatest_decrease})\\n\")"
   ]
  },
  {
   "cell_type": "code",
   "execution_count": 87,
   "id": "63b20764-7133-4896-93b7-515b8b64c4c2",
   "metadata": {
    "tags": []
   },
   "outputs": [],
   "source": [
    "# Create the output text file for the results\n",
    "\n",
    "output_path = os.path.join(\"Resources\", \"results.txt\")"
   ]
  },
  {
   "cell_type": "code",
   "execution_count": 88,
   "id": "4102148b-ba94-4a52-95c4-5b1a863657c3",
   "metadata": {
    "tags": []
   },
   "outputs": [],
   "source": [
    "# Open 'results.txt' file and store the analysis results\n",
    "\n",
    "with open(output_path, 'w') as file:\n",
    "    file.write(\"Financial Analysis\\n\")\n",
    "    file.write(\"----------------------------\\n\")\n",
    "    file.write(f\"Total Months: {rowcount}\\n\")\n",
    "    file.write(f\"Total: ${net_PL}\\n\")\n",
    "    file.write(f\"Average Change: ${round(avg_change, 2)}\\n\")\n",
    "    file.write(f\"Greatest Increase in Profits: {greatest_increase_date} (${greatest_increase})\\n\")\n",
    "    file.write(f\"Greatest Decrease in Profits: {greatest_decrease_date} (${greatest_decrease})\\n\")"
   ]
  },
  {
   "cell_type": "code",
   "execution_count": 89,
   "id": "704281b3-779e-47a7-bada-b15012454d08",
   "metadata": {
    "tags": []
   },
   "outputs": [
    {
     "name": "stdout",
     "output_type": "stream",
     "text": [
      "The analysis results have been stored as 'Resources/results.txt'.\n"
     ]
    }
   ],
   "source": [
    "# Print output text file path and file name to the terminal to notify user    \n",
    "\n",
    "print(f\"The analysis results have been stored as '{output_path}'.\")"
   ]
  }
 ],
 "metadata": {
  "kernelspec": {
   "display_name": "Python 3 (ipykernel)",
   "language": "python",
   "name": "python3"
  },
  "language_info": {
   "codemirror_mode": {
    "name": "ipython",
    "version": 3
   },
   "file_extension": ".py",
   "mimetype": "text/x-python",
   "name": "python",
   "nbconvert_exporter": "python",
   "pygments_lexer": "ipython3",
   "version": "3.10.13"
  }
 },
 "nbformat": 4,
 "nbformat_minor": 5
}
